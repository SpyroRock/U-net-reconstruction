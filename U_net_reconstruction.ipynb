{
  "nbformat": 4,
  "nbformat_minor": 0,
  "metadata": {
    "colab": {
      "name": "U-net-reconstruction.ipynb",
      "provenance": [],
      "collapsed_sections": [],
      "authorship_tag": "ABX9TyPWv3ddhcmikXGFU45IdVQr",
      "include_colab_link": true
    },
    "kernelspec": {
      "name": "python3",
      "display_name": "Python 3"
    },
    "accelerator": "GPU"
  },
  "cells": [
    {
      "cell_type": "markdown",
      "metadata": {
        "id": "view-in-github",
        "colab_type": "text"
      },
      "source": [
        "<a href=\"https://colab.research.google.com/github/SpyroRock/U-net-reconstruction/blob/master/U_net_reconstruction.ipynb\" target=\"_parent\"><img src=\"https://colab.research.google.com/assets/colab-badge.svg\" alt=\"Open In Colab\"/></a>"
      ]
    },
    {
      "cell_type": "code",
      "metadata": {
        "colab": {
          "base_uri": "https://localhost:8080/"
        },
        "id": "ko82Ds3thPeA",
        "outputId": "4944dc4c-6f3c-4c2a-f67e-df0855bb2882"
      },
      "source": [
        "!git clone https://github.com/SpyroRock/U-net-reconstruction\r\n",
        "%cd U-net-reconstruction"
      ],
      "execution_count": null,
      "outputs": [
        {
          "output_type": "stream",
          "text": [
            "Cloning into 'U-net-reconstruction'...\n",
            "remote: Enumerating objects: 3, done.\u001b[K\n",
            "remote: Counting objects: 100% (3/3), done.\u001b[K\n",
            "remote: Compressing objects: 100% (3/3), done.\u001b[K\n",
            "remote: Total 69 (delta 0), reused 0 (delta 0), pack-reused 66\u001b[K\n",
            "Unpacking objects: 100% (69/69), done.\n",
            "/content/U-net-reconstruction\n"
          ],
          "name": "stdout"
        }
      ]
    },
    {
      "cell_type": "code",
      "metadata": {
        "colab": {
          "base_uri": "https://localhost:8080/",
          "height": 1000
        },
        "id": "EY2BgwzdiKfe",
        "outputId": "4c4f735a-7492-4112-f54e-0f87963b9911"
      },
      "source": [
        "!pip install -r requirements.txt"
      ],
      "execution_count": null,
      "outputs": [
        {
          "output_type": "stream",
          "text": [
            "Collecting tensorflow==1.9.0\n",
            "\u001b[?25l  Downloading https://files.pythonhosted.org/packages/86/95/274190b39950e1e9eef4b071acefea832ac3e2c19bb4b442fa54f3214d2e/tensorflow-1.9.0-cp36-cp36m-manylinux1_x86_64.whl (51.1MB)\n",
            "\u001b[K     |████████████████████████████████| 51.1MB 61kB/s \n",
            "\u001b[?25hCollecting keras==2.2.2\n",
            "\u001b[?25l  Downloading https://files.pythonhosted.org/packages/34/7d/b1dedde8af99bd82f20ed7e9697aac0597de3049b1f786aa2aac3b9bd4da/Keras-2.2.2-py2.py3-none-any.whl (299kB)\n",
            "\u001b[K     |████████████████████████████████| 307kB 49.1MB/s \n",
            "\u001b[?25hCollecting keras-segmentation==0.3.0\n",
            "  Downloading https://files.pythonhosted.org/packages/43/f0/b8def71a219c6a21f5201727082e846c560817712b3484e8f0c834c9c0e6/keras_segmentation-0.3.0.tar.gz\n",
            "Requirement already satisfied: absl-py>=0.1.6 in /usr/local/lib/python3.6/dist-packages (from tensorflow==1.9.0->-r requirements.txt (line 1)) (0.10.0)\n",
            "Requirement already satisfied: termcolor>=1.1.0 in /usr/local/lib/python3.6/dist-packages (from tensorflow==1.9.0->-r requirements.txt (line 1)) (1.1.0)\n",
            "Collecting setuptools<=39.1.0\n",
            "\u001b[?25l  Downloading https://files.pythonhosted.org/packages/8c/10/79282747f9169f21c053c562a0baa21815a8c7879be97abd930dbcf862e8/setuptools-39.1.0-py2.py3-none-any.whl (566kB)\n",
            "\u001b[K     |████████████████████████████████| 573kB 41.9MB/s \n",
            "\u001b[?25hRequirement already satisfied: protobuf>=3.4.0 in /usr/local/lib/python3.6/dist-packages (from tensorflow==1.9.0->-r requirements.txt (line 1)) (3.12.4)\n",
            "Requirement already satisfied: grpcio>=1.8.6 in /usr/local/lib/python3.6/dist-packages (from tensorflow==1.9.0->-r requirements.txt (line 1)) (1.32.0)\n",
            "Requirement already satisfied: six>=1.10.0 in /usr/local/lib/python3.6/dist-packages (from tensorflow==1.9.0->-r requirements.txt (line 1)) (1.15.0)\n",
            "Requirement already satisfied: astor>=0.6.0 in /usr/local/lib/python3.6/dist-packages (from tensorflow==1.9.0->-r requirements.txt (line 1)) (0.8.1)\n",
            "Requirement already satisfied: gast>=0.2.0 in /usr/local/lib/python3.6/dist-packages (from tensorflow==1.9.0->-r requirements.txt (line 1)) (0.3.3)\n",
            "Collecting tensorboard<1.10.0,>=1.9.0\n",
            "\u001b[?25l  Downloading https://files.pythonhosted.org/packages/9e/1f/3da43860db614e294a034e42d4be5c8f7f0d2c75dc1c428c541116d8cdab/tensorboard-1.9.0-py3-none-any.whl (3.3MB)\n",
            "\u001b[K     |████████████████████████████████| 3.3MB 50.5MB/s \n",
            "\u001b[?25hRequirement already satisfied: wheel>=0.26 in /usr/local/lib/python3.6/dist-packages (from tensorflow==1.9.0->-r requirements.txt (line 1)) (0.36.2)\n",
            "Requirement already satisfied: numpy>=1.13.3 in /usr/local/lib/python3.6/dist-packages (from tensorflow==1.9.0->-r requirements.txt (line 1)) (1.19.5)\n",
            "Requirement already satisfied: pyyaml in /usr/local/lib/python3.6/dist-packages (from keras==2.2.2->-r requirements.txt (line 2)) (3.13)\n",
            "Collecting keras-preprocessing==1.0.2\n",
            "  Downloading https://files.pythonhosted.org/packages/71/26/1e778ebd737032749824d5cba7dbd3b0cf9234b87ab5ec79f5f0403ca7e9/Keras_Preprocessing-1.0.2-py2.py3-none-any.whl\n",
            "Requirement already satisfied: h5py in /usr/local/lib/python3.6/dist-packages (from keras==2.2.2->-r requirements.txt (line 2)) (2.10.0)\n",
            "Requirement already satisfied: scipy>=0.14 in /usr/local/lib/python3.6/dist-packages (from keras==2.2.2->-r requirements.txt (line 2)) (1.4.1)\n",
            "Collecting keras-applications==1.0.4\n",
            "\u001b[?25l  Downloading https://files.pythonhosted.org/packages/54/90/8f327deaa37a71caddb59b7b4aaa9d4b3e90c0e76f8c2d1572005278ddc5/Keras_Applications-1.0.4-py2.py3-none-any.whl (43kB)\n",
            "\u001b[K     |████████████████████████████████| 51kB 8.7MB/s \n",
            "\u001b[?25hCollecting imageio==2.5.0\n",
            "\u001b[?25l  Downloading https://files.pythonhosted.org/packages/af/0a/943c965d372dae0b1f1482677d29030ab834351a61a9a632fd62f27f1523/imageio-2.5.0-py3-none-any.whl (3.3MB)\n",
            "\u001b[K     |████████████████████████████████| 3.3MB 41.3MB/s \n",
            "\u001b[?25hRequirement already satisfied: imgaug==0.2.9 in /usr/local/lib/python3.6/dist-packages (from keras-segmentation==0.3.0->-r requirements.txt (line 3)) (0.2.9)\n",
            "Requirement already satisfied: opencv-python in /usr/local/lib/python3.6/dist-packages (from keras-segmentation==0.3.0->-r requirements.txt (line 3)) (4.1.2.30)\n",
            "Requirement already satisfied: tqdm in /usr/local/lib/python3.6/dist-packages (from keras-segmentation==0.3.0->-r requirements.txt (line 3)) (4.41.1)\n",
            "Requirement already satisfied: werkzeug>=0.11.10 in /usr/local/lib/python3.6/dist-packages (from tensorboard<1.10.0,>=1.9.0->tensorflow==1.9.0->-r requirements.txt (line 1)) (1.0.1)\n",
            "Requirement already satisfied: markdown>=2.6.8 in /usr/local/lib/python3.6/dist-packages (from tensorboard<1.10.0,>=1.9.0->tensorflow==1.9.0->-r requirements.txt (line 1)) (3.3.3)\n",
            "Requirement already satisfied: pillow in /usr/local/lib/python3.6/dist-packages (from imageio==2.5.0->keras-segmentation==0.3.0->-r requirements.txt (line 3)) (7.0.0)\n",
            "Requirement already satisfied: scikit-image>=0.11.0 in /usr/local/lib/python3.6/dist-packages (from imgaug==0.2.9->keras-segmentation==0.3.0->-r requirements.txt (line 3)) (0.16.2)\n",
            "Requirement already satisfied: Shapely in /usr/local/lib/python3.6/dist-packages (from imgaug==0.2.9->keras-segmentation==0.3.0->-r requirements.txt (line 3)) (1.7.1)\n",
            "Requirement already satisfied: matplotlib in /usr/local/lib/python3.6/dist-packages (from imgaug==0.2.9->keras-segmentation==0.3.0->-r requirements.txt (line 3)) (3.2.2)\n",
            "Requirement already satisfied: importlib-metadata; python_version < \"3.8\" in /usr/local/lib/python3.6/dist-packages (from markdown>=2.6.8->tensorboard<1.10.0,>=1.9.0->tensorflow==1.9.0->-r requirements.txt (line 1)) (3.3.0)\n",
            "Requirement already satisfied: PyWavelets>=0.4.0 in /usr/local/lib/python3.6/dist-packages (from scikit-image>=0.11.0->imgaug==0.2.9->keras-segmentation==0.3.0->-r requirements.txt (line 3)) (1.1.1)\n",
            "Requirement already satisfied: networkx>=2.0 in /usr/local/lib/python3.6/dist-packages (from scikit-image>=0.11.0->imgaug==0.2.9->keras-segmentation==0.3.0->-r requirements.txt (line 3)) (2.5)\n",
            "Requirement already satisfied: cycler>=0.10 in /usr/local/lib/python3.6/dist-packages (from matplotlib->imgaug==0.2.9->keras-segmentation==0.3.0->-r requirements.txt (line 3)) (0.10.0)\n",
            "Requirement already satisfied: kiwisolver>=1.0.1 in /usr/local/lib/python3.6/dist-packages (from matplotlib->imgaug==0.2.9->keras-segmentation==0.3.0->-r requirements.txt (line 3)) (1.3.1)\n",
            "Requirement already satisfied: python-dateutil>=2.1 in /usr/local/lib/python3.6/dist-packages (from matplotlib->imgaug==0.2.9->keras-segmentation==0.3.0->-r requirements.txt (line 3)) (2.8.1)\n",
            "Requirement already satisfied: pyparsing!=2.0.4,!=2.1.2,!=2.1.6,>=2.0.1 in /usr/local/lib/python3.6/dist-packages (from matplotlib->imgaug==0.2.9->keras-segmentation==0.3.0->-r requirements.txt (line 3)) (2.4.7)\n",
            "Requirement already satisfied: typing-extensions>=3.6.4; python_version < \"3.8\" in /usr/local/lib/python3.6/dist-packages (from importlib-metadata; python_version < \"3.8\"->markdown>=2.6.8->tensorboard<1.10.0,>=1.9.0->tensorflow==1.9.0->-r requirements.txt (line 1)) (3.7.4.3)\n",
            "Requirement already satisfied: zipp>=0.5 in /usr/local/lib/python3.6/dist-packages (from importlib-metadata; python_version < \"3.8\"->markdown>=2.6.8->tensorboard<1.10.0,>=1.9.0->tensorflow==1.9.0->-r requirements.txt (line 1)) (3.4.0)\n",
            "Requirement already satisfied: decorator>=4.3.0 in /usr/local/lib/python3.6/dist-packages (from networkx>=2.0->scikit-image>=0.11.0->imgaug==0.2.9->keras-segmentation==0.3.0->-r requirements.txt (line 3)) (4.4.2)\n",
            "Building wheels for collected packages: keras-segmentation\n",
            "  Building wheel for keras-segmentation (setup.py) ... \u001b[?25l\u001b[?25hdone\n",
            "  Created wheel for keras-segmentation: filename=keras_segmentation-0.3.0-cp36-none-any.whl size=29072 sha256=33c115565324edab5fcd32715c9417ae2409af8ae0f13e0d3943413164f21326\n",
            "  Stored in directory: /root/.cache/pip/wheels/d0/bb/c0/6aad88b38f6e46db048bed4cccb904a5897055a8ab6fbd4dfc\n",
            "Successfully built keras-segmentation\n",
            "\u001b[31mERROR: xarray 0.15.1 has requirement setuptools>=41.2, but you'll have setuptools 39.1.0 which is incompatible.\u001b[0m\n",
            "\u001b[31mERROR: google-auth 1.17.2 has requirement setuptools>=40.3.0, but you'll have setuptools 39.1.0 which is incompatible.\u001b[0m\n",
            "\u001b[31mERROR: datascience 0.10.6 has requirement folium==0.2.1, but you'll have folium 0.8.3 which is incompatible.\u001b[0m\n",
            "\u001b[31mERROR: albumentations 0.1.12 has requirement imgaug<0.2.7,>=0.2.5, but you'll have imgaug 0.2.9 which is incompatible.\u001b[0m\n",
            "Installing collected packages: setuptools, tensorboard, tensorflow, keras-preprocessing, keras-applications, keras, imageio, keras-segmentation\n",
            "  Found existing installation: setuptools 51.3.3\n",
            "    Uninstalling setuptools-51.3.3:\n",
            "      Successfully uninstalled setuptools-51.3.3\n",
            "  Found existing installation: tensorboard 2.4.0\n",
            "    Uninstalling tensorboard-2.4.0:\n",
            "      Successfully uninstalled tensorboard-2.4.0\n",
            "  Found existing installation: tensorflow 2.4.0\n",
            "    Uninstalling tensorflow-2.4.0:\n",
            "      Successfully uninstalled tensorflow-2.4.0\n",
            "  Found existing installation: Keras-Preprocessing 1.1.2\n",
            "    Uninstalling Keras-Preprocessing-1.1.2:\n",
            "      Successfully uninstalled Keras-Preprocessing-1.1.2\n",
            "  Found existing installation: Keras 2.4.3\n",
            "    Uninstalling Keras-2.4.3:\n",
            "      Successfully uninstalled Keras-2.4.3\n",
            "  Found existing installation: imageio 2.4.1\n",
            "    Uninstalling imageio-2.4.1:\n",
            "      Successfully uninstalled imageio-2.4.1\n",
            "Successfully installed imageio-2.5.0 keras-2.2.2 keras-applications-1.0.4 keras-preprocessing-1.0.2 keras-segmentation-0.3.0 setuptools-39.1.0 tensorboard-1.9.0 tensorflow-1.9.0\n"
          ],
          "name": "stdout"
        },
        {
          "output_type": "display_data",
          "data": {
            "application/vnd.colab-display-data+json": {
              "pip_warning": {
                "packages": [
                  "pkg_resources"
                ]
              }
            }
          },
          "metadata": {
            "tags": []
          }
        }
      ]
    },
    {
      "cell_type": "code",
      "metadata": {
        "colab": {
          "base_uri": "https://localhost:8080/"
        },
        "id": "tFSagMQBiUTi",
        "outputId": "37a9bc5f-5ff3-464f-c6fb-2e5e6c3bfef9"
      },
      "source": [
        "%cd U-net-reconstruction/"
      ],
      "execution_count": null,
      "outputs": [
        {
          "output_type": "stream",
          "text": [
            "/content/U-net-reconstruction\n"
          ],
          "name": "stdout"
        }
      ]
    },
    {
      "cell_type": "code",
      "metadata": {
        "id": "WXtoX3OuLFZX",
        "colab": {
          "base_uri": "https://localhost:8080/"
        },
        "outputId": "fc935719-2544-4351-9ae8-2c802c0f3ff7"
      },
      "source": [
        "import matplotlib.pyplot as plt \r\n",
        "from U_net_model import build_model\r\n",
        "import keras\r\n",
        "from keras.models import Model\r\n",
        "from keras.layers import Input\r\n",
        "import numpy as np\r\n",
        "import matplotlib.pyplot as plt\r\n",
        "import tensorflow as tf\r\n",
        "import keras\r\n",
        "from keras import backend as K\r\n",
        "import numpy as np\r\n",
        "from numpy import load, save\r\n",
        "from sklearn.model_selection import train_test_split\r\n",
        "# from keras.callbacks import ModelCheckpoint\r\n",
        "import pickle\r\n",
        "import os\r\n",
        "%matplotlib inline"
      ],
      "execution_count": null,
      "outputs": [
        {
          "output_type": "stream",
          "text": [
            "Using TensorFlow backend.\n",
            "/usr/local/lib/python3.6/dist-packages/tensorflow/python/framework/dtypes.py:523: FutureWarning: Passing (type, 1) or '1type' as a synonym of type is deprecated; in a future version of numpy, it will be understood as (type, (1,)) / '(1,)type'.\n",
            "  _np_qint8 = np.dtype([(\"qint8\", np.int8, 1)])\n",
            "/usr/local/lib/python3.6/dist-packages/tensorflow/python/framework/dtypes.py:524: FutureWarning: Passing (type, 1) or '1type' as a synonym of type is deprecated; in a future version of numpy, it will be understood as (type, (1,)) / '(1,)type'.\n",
            "  _np_quint8 = np.dtype([(\"quint8\", np.uint8, 1)])\n",
            "/usr/local/lib/python3.6/dist-packages/tensorflow/python/framework/dtypes.py:525: FutureWarning: Passing (type, 1) or '1type' as a synonym of type is deprecated; in a future version of numpy, it will be understood as (type, (1,)) / '(1,)type'.\n",
            "  _np_qint16 = np.dtype([(\"qint16\", np.int16, 1)])\n",
            "/usr/local/lib/python3.6/dist-packages/tensorflow/python/framework/dtypes.py:526: FutureWarning: Passing (type, 1) or '1type' as a synonym of type is deprecated; in a future version of numpy, it will be understood as (type, (1,)) / '(1,)type'.\n",
            "  _np_quint16 = np.dtype([(\"quint16\", np.uint16, 1)])\n",
            "/usr/local/lib/python3.6/dist-packages/tensorflow/python/framework/dtypes.py:527: FutureWarning: Passing (type, 1) or '1type' as a synonym of type is deprecated; in a future version of numpy, it will be understood as (type, (1,)) / '(1,)type'.\n",
            "  _np_qint32 = np.dtype([(\"qint32\", np.int32, 1)])\n",
            "/usr/local/lib/python3.6/dist-packages/tensorflow/python/framework/dtypes.py:532: FutureWarning: Passing (type, 1) or '1type' as a synonym of type is deprecated; in a future version of numpy, it will be understood as (type, (1,)) / '(1,)type'.\n",
            "  np_resource = np.dtype([(\"resource\", np.ubyte, 1)])\n"
          ],
          "name": "stderr"
        }
      ]
    },
    {
      "cell_type": "code",
      "metadata": {
        "colab": {
          "base_uri": "https://localhost:8080/",
          "height": 302
        },
        "id": "uaHRj-EIjH6Z",
        "outputId": "82ce9d05-136e-4449-805e-a2832a9c0b87"
      },
      "source": [
        "img_height = 128\r\n",
        "img_width = 128\r\n",
        "\r\n",
        "img_height_test = 128\r\n",
        "img_width_test = 128\r\n",
        "\r\n",
        "speckle_data = load('speckle_array_case1.npy')\r\n",
        "# speckle_data = tf.constant(speckle_data, dtype=tf.uint8)\r\n",
        "print(tf.constant(speckle_data))\r\n",
        "print(speckle_data.shape)\r\n",
        "\r\n",
        "plt.imshow(speckle_data[0], cmap='gray')\r\n",
        "plt.show()\r\n",
        "\r\n",
        "# speckle_labels = load('speckle_labels.npy')\r\n",
        "speckle_labels = load('symbol_array_case1.npy')\r\n",
        "# speckle_labels = tf.constant(speckle_labels, dtype=tf.uint8)\r\n",
        "print(tf.constant(speckle_labels))\r\n",
        "print(speckle_labels.shape)\r\n",
        "\r\n",
        "plt.imshow(speckle_labels[0], cmap='gray')\r\n",
        "plt.show()"
      ],
      "execution_count": null,
      "outputs": [
        {
          "output_type": "stream",
          "text": [
            "(258, 256, 256)\n"
          ],
          "name": "stdout"
        },
        {
          "output_type": "display_data",
          "data": {
            "image/png": "[encoded data removed]",
            "text/plain": [
              "<Figure size 432x288 with 1 Axes>"
            ]
          },
          "metadata": {
            "tags": [],
            "needs_background": "light"
          }
        },
        {
          "output_type": "stream",
          "text": [
            "(258, 256, 256)\n"
          ],
          "name": "stdout"
        }
      ]
    },
    {
      "cell_type": "code",
      "metadata": {
        "id": "4zEoqrDdjQFN"
      },
      "source": [
        "X_train, X_test, y_train, y_test = train_test_split(speckle_data, speckle_labels, test_size=0.1, random_state=42)\r\n",
        "\r\n",
        "X_train = X_train.reshape(-1, img_height, img_width, 1)\r\n",
        "X_test = X_test.reshape(-1, img_height, img_width, 1)\r\n",
        "input_shape = (img_height, img_width, 1)\r\n",
        "\r\n",
        "y_train = y_train.reshape(-1, img_height_test, img_width_test, 1)\r\n",
        "y_test = y_test.reshape(-1, img_height_test, img_width_test, 1)\r\n",
        "input_shape_test = (img_height_test, img_width_test, 1)"
      ],
      "execution_count": null,
      "outputs": []
    },
    {
      "cell_type": "code",
      "metadata": {
        "colab": {
          "base_uri": "https://localhost:8080/"
        },
        "id": "KWcnFQAVjX22",
        "outputId": "099fc237-19bd-4ca8-d2b1-f242ef359321"
      },
      "source": [
        "# checkpoint\r\n",
        "#checkpoint_filepath = 'weights.{epoch:02d}-{accuracy:.2f}.hdf5'\r\n",
        "checkpoint_filepath = '/content/U-net-reconstruction/cp.ckpt'\r\n",
        "checkpoint_dir = os.path.dirname(checkpoint_filepath)\r\n",
        "\r\n",
        "\r\n",
        "model_checkpoint_callback = tf.keras.callbacks.ModelCheckpoint(filepath = checkpoint_filepath,\r\n",
        "                                                               save_weights_only = True,\r\n",
        "                                                               verbose=1)\r\n",
        "\r\n",
        "reconstruction = build_model(input_shape, 16)\r\n",
        "\r\n",
        "# Model weights are saved at the end of every epoch, if it's the best seen so far.\r\n",
        "reconstruction.fit(X_train, y_train, \r\n",
        "                   batch_size = 50,\r\n",
        "                   epochs = 200,\r\n",
        "                   validation_data = (X_test, y_test),    \r\n",
        "                   callbacks = [model_checkpoint_callback])"
      ],
      "execution_count": null,
      "outputs": [
        {
          "output_type": "stream",
          "text": [
            "/content/U-net-reconstruction/U_net_model.py:65: UserWarning: Update your `Model` call to the Keras 2 API: `Model(inputs=Tensor(\"in..., outputs=Tensor(\"co...)`\n",
            "  model = Model(input = inputs, output = output_layer)\n"
          ],
          "name": "stderr"
        },
        {
          "output_type": "stream",
          "text": [
            "__________________________________________________________________________________________________\n",
            "Layer (type)                    Output Shape         Param #     Connected to                     \n",
            "==================================================================================================\n",
            "input_1 (InputLayer)            (None, 256, 256, 1)  0                                            \n",
            "__________________________________________________________________________________________________\n",
            "conv2d_1 (Conv2D)               (None, 256, 256, 16) 160         input_1[0][0]                    \n",
            "__________________________________________________________________________________________________\n",
            "conv2d_2 (Conv2D)               (None, 256, 256, 16) 2320        conv2d_1[0][0]                   \n",
            "__________________________________________________________________________________________________\n",
            "max_pooling2d_1 (MaxPooling2D)  (None, 128, 128, 16) 0           conv2d_2[0][0]                   \n",
            "__________________________________________________________________________________________________\n",
            "dropout_1 (Dropout)             (None, 128, 128, 16) 0           max_pooling2d_1[0][0]            \n",
            "__________________________________________________________________________________________________\n",
            "conv2d_3 (Conv2D)               (None, 128, 128, 32) 4640        dropout_1[0][0]                  \n",
            "__________________________________________________________________________________________________\n",
            "conv2d_4 (Conv2D)               (None, 128, 128, 32) 9248        conv2d_3[0][0]                   \n",
            "__________________________________________________________________________________________________\n",
            "max_pooling2d_2 (MaxPooling2D)  (None, 64, 64, 32)   0           conv2d_4[0][0]                   \n",
            "__________________________________________________________________________________________________\n",
            "dropout_2 (Dropout)             (None, 64, 64, 32)   0           max_pooling2d_2[0][0]            \n",
            "__________________________________________________________________________________________________\n",
            "conv2d_5 (Conv2D)               (None, 64, 64, 64)   18496       dropout_2[0][0]                  \n",
            "__________________________________________________________________________________________________\n",
            "conv2d_6 (Conv2D)               (None, 64, 64, 64)   36928       conv2d_5[0][0]                   \n",
            "__________________________________________________________________________________________________\n",
            "max_pooling2d_3 (MaxPooling2D)  (None, 32, 32, 64)   0           conv2d_6[0][0]                   \n",
            "__________________________________________________________________________________________________\n",
            "dropout_3 (Dropout)             (None, 32, 32, 64)   0           max_pooling2d_3[0][0]            \n",
            "__________________________________________________________________________________________________\n",
            "conv2d_7 (Conv2D)               (None, 32, 32, 128)  73856       dropout_3[0][0]                  \n",
            "__________________________________________________________________________________________________\n",
            "conv2d_8 (Conv2D)               (None, 32, 32, 128)  147584      conv2d_7[0][0]                   \n",
            "__________________________________________________________________________________________________\n",
            "max_pooling2d_4 (MaxPooling2D)  (None, 16, 16, 128)  0           conv2d_8[0][0]                   \n",
            "__________________________________________________________________________________________________\n",
            "dropout_4 (Dropout)             (None, 16, 16, 128)  0           max_pooling2d_4[0][0]            \n",
            "__________________________________________________________________________________________________\n",
            "conv2d_9 (Conv2D)               (None, 16, 16, 256)  295168      dropout_4[0][0]                  \n",
            "__________________________________________________________________________________________________\n",
            "conv2d_10 (Conv2D)              (None, 16, 16, 256)  590080      conv2d_9[0][0]                   \n",
            "__________________________________________________________________________________________________\n",
            "conv2d_transpose_1 (Conv2DTrans (None, 32, 32, 128)  295040      conv2d_10[0][0]                  \n",
            "__________________________________________________________________________________________________\n",
            "concatenate_1 (Concatenate)     (None, 32, 32, 256)  0           conv2d_transpose_1[0][0]         \n",
            "                                                                 conv2d_8[0][0]                   \n",
            "__________________________________________________________________________________________________\n",
            "dropout_5 (Dropout)             (None, 32, 32, 256)  0           concatenate_1[0][0]              \n",
            "__________________________________________________________________________________________________\n",
            "conv2d_11 (Conv2D)              (None, 32, 32, 128)  295040      dropout_5[0][0]                  \n",
            "__________________________________________________________________________________________________\n",
            "conv2d_12 (Conv2D)              (None, 32, 32, 128)  147584      conv2d_11[0][0]                  \n",
            "__________________________________________________________________________________________________\n",
            "conv2d_transpose_2 (Conv2DTrans (None, 64, 64, 64)   73792       conv2d_12[0][0]                  \n",
            "__________________________________________________________________________________________________\n",
            "concatenate_2 (Concatenate)     (None, 64, 64, 128)  0           conv2d_transpose_2[0][0]         \n",
            "                                                                 conv2d_6[0][0]                   \n",
            "__________________________________________________________________________________________________\n",
            "dropout_6 (Dropout)             (None, 64, 64, 128)  0           concatenate_2[0][0]              \n",
            "__________________________________________________________________________________________________\n",
            "conv2d_13 (Conv2D)              (None, 64, 64, 64)   73792       dropout_6[0][0]                  \n",
            "__________________________________________________________________________________________________\n",
            "conv2d_14 (Conv2D)              (None, 64, 64, 64)   36928       conv2d_13[0][0]                  \n",
            "__________________________________________________________________________________________________\n",
            "conv2d_transpose_3 (Conv2DTrans (None, 128, 128, 32) 18464       conv2d_14[0][0]                  \n",
            "__________________________________________________________________________________________________\n",
            "concatenate_3 (Concatenate)     (None, 128, 128, 64) 0           conv2d_transpose_3[0][0]         \n",
            "                                                                 conv2d_4[0][0]                   \n",
            "__________________________________________________________________________________________________\n",
            "dropout_7 (Dropout)             (None, 128, 128, 64) 0           concatenate_3[0][0]              \n",
            "__________________________________________________________________________________________________\n",
            "conv2d_15 (Conv2D)              (None, 128, 128, 32) 18464       dropout_7[0][0]                  \n",
            "__________________________________________________________________________________________________\n",
            "conv2d_16 (Conv2D)              (None, 128, 128, 32) 9248        conv2d_15[0][0]                  \n",
            "__________________________________________________________________________________________________\n",
            "conv2d_transpose_4 (Conv2DTrans (None, 256, 256, 16) 4624        conv2d_16[0][0]                  \n",
            "__________________________________________________________________________________________________\n",
            "concatenate_4 (Concatenate)     (None, 256, 256, 32) 0           conv2d_transpose_4[0][0]         \n",
            "                                                                 conv2d_2[0][0]                   \n",
            "__________________________________________________________________________________________________\n",
            "dropout_8 (Dropout)             (None, 256, 256, 32) 0           concatenate_4[0][0]              \n",
            "__________________________________________________________________________________________________\n",
            "conv2d_17 (Conv2D)              (None, 256, 256, 16) 4624        dropout_8[0][0]                  \n",
            "__________________________________________________________________________________________________\n",
            "conv2d_18 (Conv2D)              (None, 256, 256, 16) 2320        conv2d_17[0][0]                  \n",
            "__________________________________________________________________________________________________\n",
            "conv2d_19 (Conv2D)              (None, 256, 256, 1)  17          conv2d_18[0][0]                  \n",
            "==================================================================================================\n",
            "Total params: 2,158,417\n",
            "Trainable params: 2,158,417\n",
            "Non-trainable params: 0\n",
            "__________________________________________________________________________________________________\n",
            "Train on 232 samples, validate on 26 samples\n",
            "Epoch 1/200\n",
            "232/232 [==============================] - 249s 1s/step - loss: -92.1554 - acc: 0.1980 - val_loss: -81.4937 - val_acc: 0.1249\n",
            "\n",
            "Epoch 00001: saving model to /content/U-net-reconstruction/cp.ckpt\n",
            "Epoch 2/200\n",
            "232/232 [==============================] - 193s 832ms/step - loss: -93.1102 - acc: 0.1972 - val_loss: -82.2828 - val_acc: 0.1238\n",
            "\n",
            "Epoch 00002: saving model to /content/U-net-reconstruction/cp.ckpt\n",
            "Epoch 3/200\n",
            "232/232 [==============================] - 193s 832ms/step - loss: -94.1510 - acc: 0.1962 - val_loss: -83.0705 - val_acc: 0.1228\n",
            "\n",
            "Epoch 00003: saving model to /content/U-net-reconstruction/cp.ckpt\n",
            "Epoch 4/200\n",
            "232/232 [==============================] - 194s 836ms/step - loss: -95.0223 - acc: 0.1952 - val_loss: -83.8642 - val_acc: 0.1217\n",
            "\n",
            "Epoch 00004: saving model to /content/U-net-reconstruction/cp.ckpt\n",
            "Epoch 5/200\n",
            "232/232 [==============================] - 193s 834ms/step - loss: -95.9081 - acc: 0.1944 - val_loss: -84.6564 - val_acc: 0.1206\n",
            "\n",
            "Epoch 00005: saving model to /content/U-net-reconstruction/cp.ckpt\n",
            "Epoch 6/200\n",
            "232/232 [==============================] - 192s 829ms/step - loss: -97.0372 - acc: 0.1938 - val_loss: -85.4513 - val_acc: 0.1195\n",
            "\n",
            "Epoch 00006: saving model to /content/U-net-reconstruction/cp.ckpt\n",
            "Epoch 7/200\n",
            "232/232 [==============================] - 192s 826ms/step - loss: -97.6976 - acc: 0.1927 - val_loss: -86.2502 - val_acc: 0.1185\n",
            "\n",
            "Epoch 00007: saving model to /content/U-net-reconstruction/cp.ckpt\n",
            "Epoch 8/200\n",
            "232/232 [==============================] - 190s 819ms/step - loss: -98.6844 - acc: 0.1919 - val_loss: -87.0460 - val_acc: 0.1174\n",
            "\n",
            "Epoch 00008: saving model to /content/U-net-reconstruction/cp.ckpt\n",
            "Epoch 9/200\n",
            "232/232 [==============================] - 191s 825ms/step - loss: -99.5898 - acc: 0.1910 - val_loss: -87.8418 - val_acc: 0.1164\n",
            "\n",
            "Epoch 00009: saving model to /content/U-net-reconstruction/cp.ckpt\n",
            "Epoch 10/200\n",
            "232/232 [==============================] - 191s 825ms/step - loss: -100.5712 - acc: 0.1902 - val_loss: -88.6378 - val_acc: 0.1153\n",
            "\n",
            "Epoch 00010: saving model to /content/U-net-reconstruction/cp.ckpt\n",
            "Epoch 11/200\n",
            "232/232 [==============================] - 193s 832ms/step - loss: -101.4608 - acc: 0.1893 - val_loss: -89.4404 - val_acc: 0.1143\n",
            "\n",
            "Epoch 00011: saving model to /content/U-net-reconstruction/cp.ckpt\n",
            "Epoch 12/200\n",
            "232/232 [==============================] - 193s 833ms/step - loss: -102.4653 - acc: 0.1885 - val_loss: -90.2410 - val_acc: 0.1133\n",
            "\n",
            "Epoch 00012: saving model to /content/U-net-reconstruction/cp.ckpt\n",
            "Epoch 13/200\n",
            "232/232 [==============================] - 193s 832ms/step - loss: -103.2116 - acc: 0.1875 - val_loss: -91.0470 - val_acc: 0.1122\n",
            "\n",
            "Epoch 00013: saving model to /content/U-net-reconstruction/cp.ckpt\n",
            "Epoch 14/200\n",
            "232/232 [==============================] - 193s 831ms/step - loss: -104.2548 - acc: 0.1868 - val_loss: -91.8515 - val_acc: 0.1112\n",
            "\n",
            "Epoch 00014: saving model to /content/U-net-reconstruction/cp.ckpt\n",
            "Epoch 15/200\n",
            "232/232 [==============================] - 194s 834ms/step - loss: -105.2131 - acc: 0.1858 - val_loss: -92.6557 - val_acc: 0.1103\n",
            "\n",
            "Epoch 00015: saving model to /content/U-net-reconstruction/cp.ckpt\n",
            "Epoch 16/200\n",
            "232/232 [==============================] - 191s 824ms/step - loss: -106.0828 - acc: 0.1850 - val_loss: -93.4651 - val_acc: 0.1093\n",
            "\n",
            "Epoch 00016: saving model to /content/U-net-reconstruction/cp.ckpt\n",
            "Epoch 17/200\n",
            "232/232 [==============================] - 192s 829ms/step - loss: -107.0390 - acc: 0.1841 - val_loss: -94.2743 - val_acc: 0.1083\n",
            "\n",
            "Epoch 00017: saving model to /content/U-net-reconstruction/cp.ckpt\n",
            "Epoch 18/200\n",
            "232/232 [==============================] - 191s 824ms/step - loss: -108.0907 - acc: 0.1833 - val_loss: -95.0884 - val_acc: 0.1074\n",
            "\n",
            "Epoch 00018: saving model to /content/U-net-reconstruction/cp.ckpt\n",
            "Epoch 19/200\n",
            "232/232 [==============================] - 194s 836ms/step - loss: -109.0761 - acc: 0.1824 - val_loss: -95.9055 - val_acc: 0.1064\n",
            "\n",
            "Epoch 00019: saving model to /content/U-net-reconstruction/cp.ckpt\n",
            "Epoch 20/200\n",
            "232/232 [==============================] - 193s 834ms/step - loss: -109.9710 - acc: 0.1817 - val_loss: -96.7191 - val_acc: 0.1055\n",
            "\n",
            "Epoch 00020: saving model to /content/U-net-reconstruction/cp.ckpt\n",
            "Epoch 21/200\n",
            "232/232 [==============================] - 192s 829ms/step - loss: -110.9646 - acc: 0.1808 - val_loss: -97.5421 - val_acc: 0.1046\n",
            "\n",
            "Epoch 00021: saving model to /content/U-net-reconstruction/cp.ckpt\n",
            "Epoch 22/200\n",
            "232/232 [==============================] - 190s 820ms/step - loss: -111.9017 - acc: 0.1799 - val_loss: -98.3610 - val_acc: 0.1036\n",
            "\n",
            "Epoch 00022: saving model to /content/U-net-reconstruction/cp.ckpt\n",
            "Epoch 23/200\n",
            "232/232 [==============================] - 190s 820ms/step - loss: -112.6662 - acc: 0.1792 - val_loss: -99.1820 - val_acc: 0.1026\n",
            "\n",
            "Epoch 00023: saving model to /content/U-net-reconstruction/cp.ckpt\n",
            "Epoch 24/200\n",
            "232/232 [==============================] - 193s 833ms/step - loss: -113.8113 - acc: 0.1782 - val_loss: -100.0058 - val_acc: 0.1017\n",
            "\n",
            "Epoch 00024: saving model to /content/U-net-reconstruction/cp.ckpt\n",
            "Epoch 25/200\n",
            "232/232 [==============================] - 199s 856ms/step - loss: -114.6722 - acc: 0.1774 - val_loss: -100.8302 - val_acc: 0.1008\n",
            "\n",
            "Epoch 00025: saving model to /content/U-net-reconstruction/cp.ckpt\n",
            "Epoch 26/200\n",
            "232/232 [==============================] - 195s 839ms/step - loss: -115.6671 - acc: 0.1766 - val_loss: -101.6566 - val_acc: 0.0999\n",
            "\n",
            "Epoch 00026: saving model to /content/U-net-reconstruction/cp.ckpt\n",
            "Epoch 27/200\n",
            "232/232 [==============================] - 198s 855ms/step - loss: -116.6282 - acc: 0.1757 - val_loss: -102.4869 - val_acc: 0.0991\n",
            "\n",
            "Epoch 00027: saving model to /content/U-net-reconstruction/cp.ckpt\n",
            "Epoch 28/200\n",
            "232/232 [==============================] - 194s 838ms/step - loss: -117.6032 - acc: 0.1750 - val_loss: -103.3208 - val_acc: 0.0981\n",
            "\n",
            "Epoch 00028: saving model to /content/U-net-reconstruction/cp.ckpt\n",
            "Epoch 29/200\n",
            "232/232 [==============================] - 193s 832ms/step - loss: -118.8049 - acc: 0.1740 - val_loss: -104.1582 - val_acc: 0.0972\n",
            "\n",
            "Epoch 00029: saving model to /content/U-net-reconstruction/cp.ckpt\n",
            "Epoch 30/200\n",
            "232/232 [==============================] - 195s 842ms/step - loss: -119.5428 - acc: 0.1731 - val_loss: -104.9960 - val_acc: 0.0963\n",
            "\n",
            "Epoch 00030: saving model to /content/U-net-reconstruction/cp.ckpt\n",
            "Epoch 31/200\n",
            "232/232 [==============================] - 192s 827ms/step - loss: -120.6188 - acc: 0.1724 - val_loss: -105.8322 - val_acc: 0.0955\n",
            "\n",
            "Epoch 00031: saving model to /content/U-net-reconstruction/cp.ckpt\n",
            "Epoch 32/200\n",
            "232/232 [==============================] - 192s 830ms/step - loss: -121.6913 - acc: 0.1717 - val_loss: -106.6770 - val_acc: 0.0947\n",
            "\n",
            "Epoch 00032: saving model to /content/U-net-reconstruction/cp.ckpt\n",
            "Epoch 33/200\n",
            "232/232 [==============================] - 193s 830ms/step - loss: -122.6337 - acc: 0.1708 - val_loss: -107.5228 - val_acc: 0.0938\n",
            "\n",
            "Epoch 00033: saving model to /content/U-net-reconstruction/cp.ckpt\n",
            "Epoch 34/200\n",
            "232/232 [==============================] - 194s 834ms/step - loss: -123.6395 - acc: 0.1698 - val_loss: -108.3711 - val_acc: 0.0930\n",
            "\n",
            "Epoch 00034: saving model to /content/U-net-reconstruction/cp.ckpt\n",
            "Epoch 35/200\n",
            "232/232 [==============================] - 196s 845ms/step - loss: -124.4763 - acc: 0.1690 - val_loss: -109.2225 - val_acc: 0.0921\n",
            "\n",
            "Epoch 00035: saving model to /content/U-net-reconstruction/cp.ckpt\n",
            "Epoch 36/200\n",
            "232/232 [==============================] - 195s 839ms/step - loss: -125.6195 - acc: 0.1682 - val_loss: -110.0700 - val_acc: 0.0913\n",
            "\n",
            "Epoch 00036: saving model to /content/U-net-reconstruction/cp.ckpt\n",
            "Epoch 37/200\n",
            "232/232 [==============================] - 195s 842ms/step - loss: -126.6907 - acc: 0.1674 - val_loss: -110.9296 - val_acc: 0.0904\n",
            "\n",
            "Epoch 00037: saving model to /content/U-net-reconstruction/cp.ckpt\n",
            "Epoch 38/200\n",
            "200/232 [========================>.....] - ETA: 26s - loss: -126.7047 - acc: 0.1668 "
          ],
          "name": "stdout"
        }
      ]
    },
    {
      "cell_type": "code",
      "metadata": {
        "colab": {
          "base_uri": "https://localhost:8080/",
          "height": 178
        },
        "id": "BGbmQpuoMx4k",
        "outputId": "4fca9687-4a12-4b55-ae1e-0b8d8b1d5b52"
      },
      "source": [
        "latest = tf.train.latest_checkpoint(checkpoint_dir)\r\n",
        "print(latest)"
      ],
      "execution_count": null,
      "outputs": [
        {
          "output_type": "error",
          "ename": "NameError",
          "evalue": "ignored",
          "traceback": [
            "\u001b[0;31m---------------------------------------------------------------------------\u001b[0m",
            "\u001b[0;31mNameError\u001b[0m                                 Traceback (most recent call last)",
            "\u001b[0;32m<ipython-input-4-8abcb0c25480>\u001b[0m in \u001b[0;36m<module>\u001b[0;34m()\u001b[0m\n\u001b[0;32m----> 1\u001b[0;31m \u001b[0mlatest\u001b[0m \u001b[0;34m=\u001b[0m \u001b[0mtf\u001b[0m\u001b[0;34m.\u001b[0m\u001b[0mtrain\u001b[0m\u001b[0;34m.\u001b[0m\u001b[0mlatest_checkpoint\u001b[0m\u001b[0;34m(\u001b[0m\u001b[0mcheckpoint_dir\u001b[0m\u001b[0;34m)\u001b[0m\u001b[0;34m\u001b[0m\u001b[0;34m\u001b[0m\u001b[0m\n\u001b[0m\u001b[1;32m      2\u001b[0m \u001b[0mprint\u001b[0m\u001b[0;34m(\u001b[0m\u001b[0mlatest\u001b[0m\u001b[0;34m)\u001b[0m\u001b[0;34m\u001b[0m\u001b[0;34m\u001b[0m\u001b[0m\n",
            "\u001b[0;31mNameError\u001b[0m: name 'tf' is not defined"
          ]
        }
      ]
    },
    {
      "cell_type": "code",
      "metadata": {
        "id": "CrRp8gIlLXUK",
        "colab": {
          "base_uri": "https://localhost:8080/",
          "height": 229
        },
        "outputId": "b3f97f98-1525-44c2-de40-bfba4361294c"
      },
      "source": [
        "reconstruction.load_weights(checkpoint_filepath)\r\n",
        "\r\n",
        "score = reconstruction.evaluate(X_test, y_test, verbose = 0)\r\n",
        "\r\n",
        "print('Test loss:', score[0])\r\n",
        "print('Test acuracy:', score[1]) "
      ],
      "execution_count": null,
      "outputs": [
        {
          "output_type": "error",
          "ename": "NameError",
          "evalue": "ignored",
          "traceback": [
            "\u001b[0;31m---------------------------------------------------------------------------\u001b[0m",
            "\u001b[0;31mNameError\u001b[0m                                 Traceback (most recent call last)",
            "\u001b[0;32m<ipython-input-3-8aa84ee2c417>\u001b[0m in \u001b[0;36m<module>\u001b[0;34m()\u001b[0m\n\u001b[1;32m      1\u001b[0m \u001b[0;31m# The model weights (that are considered the best) are loaded into the model.\u001b[0m\u001b[0;34m\u001b[0m\u001b[0;34m\u001b[0m\u001b[0;34m\u001b[0m\u001b[0m\n\u001b[0;32m----> 2\u001b[0;31m \u001b[0mreconstruction\u001b[0m\u001b[0;34m.\u001b[0m\u001b[0mload_weights\u001b[0m\u001b[0;34m(\u001b[0m\u001b[0mcheckpoint_filepath\u001b[0m\u001b[0;34m)\u001b[0m\u001b[0;34m\u001b[0m\u001b[0;34m\u001b[0m\u001b[0m\n\u001b[0m\u001b[1;32m      3\u001b[0m \u001b[0;34m\u001b[0m\u001b[0m\n\u001b[1;32m      4\u001b[0m \u001b[0;31m#checkpoint_filepath = '/content/U-net-reconstruction/cp.ckpt'\u001b[0m\u001b[0;34m\u001b[0m\u001b[0;34m\u001b[0m\u001b[0;34m\u001b[0m\u001b[0m\n\u001b[1;32m      5\u001b[0m \u001b[0;31m#checkpoint_dir = os.path.dirname(checkpoint_filepath)\u001b[0m\u001b[0;34m\u001b[0m\u001b[0;34m\u001b[0m\u001b[0;34m\u001b[0m\u001b[0m\n",
            "\u001b[0;31mNameError\u001b[0m: name 'reconstruction' is not defined"
          ]
        }
      ]
    },
    {
      "cell_type": "code",
      "metadata": {
        "id": "vPpFJE80jiLU"
      },
      "source": [
        "y_predicted = reconstruction.predict(X_test)\r\n",
        "\r\n",
        "extract = Model(reconstruction.inputs, reconstruction.layers[-1].output) \r\n",
        "features = extract.predict(X_test)\r\n",
        "print(features.shape)\r\n",
        "save('features_data.npy', features)\r\n",
        "save('features_predicted.npy', y_predicted)\r\n",
        "\r\n",
        "reconstruction.save('reconstruction_model')"
      ],
      "execution_count": null,
      "outputs": []
    }
  ]
}